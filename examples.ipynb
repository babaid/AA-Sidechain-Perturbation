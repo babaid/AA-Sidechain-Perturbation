{
 "cells": [
  {
   "cell_type": "markdown",
   "metadata": {},
   "source": [
    "# Example Usage"
   ]
  },
  {
   "cell_type": "code",
   "execution_count": 1,
   "metadata": {},
   "outputs": [],
   "source": [
    "#imports\n",
    "from aaperturb.perturbation import AAPerturbator"
   ]
  },
  {
   "cell_type": "code",
   "execution_count": 2,
   "metadata": {},
   "outputs": [],
   "source": [
    "#intialize stuff, load pdb file, coordinates\n",
    "perturbator = AAPerturbator(\"../tests/1a01.pdb\")"
   ]
  },
  {
   "cell_type": "code",
   "execution_count": 3,
   "metadata": {},
   "outputs": [
    {
     "name": "stderr",
     "output_type": "stream",
     "text": [
      "\u001b[32m2023-09-06 17:38:18.645\u001b[0m | \u001b[1mINFO    \u001b[0m | \u001b[36maaperturb.perturbation\u001b[0m:\u001b[36mrandom_perturbaton\u001b[0m:\u001b[36m77\u001b[0m - \u001b[1mRotating around axis ('CA', 'CB')\u001b[0m\n",
      "\u001b[32m2023-09-06 17:38:18.647\u001b[0m | \u001b[1mINFO    \u001b[0m | \u001b[36maaperturb.perturbation\u001b[0m:\u001b[36mrandom_perturbaton\u001b[0m:\u001b[36m80\u001b[0m - \u001b[1mThe substructure contains following atoms: ['CB', 'CG', 'OD1', 'OD2']\u001b[0m\n",
      "\u001b[32m2023-09-06 17:38:18.926\u001b[0m | \u001b[1mINFO    \u001b[0m | \u001b[36maaperturb.perturbation\u001b[0m:\u001b[36mrandom_perturbaton\u001b[0m:\u001b[36m88\u001b[0m - \u001b[1mThere were no clashes between atoms.\u001b[0m\n",
      "\u001b[32m2023-09-06 17:38:18.926\u001b[0m | \u001b[1mINFO    \u001b[0m | \u001b[36maaperturb.perturbation\u001b[0m:\u001b[36mrandom_perturbaton\u001b[0m:\u001b[36m77\u001b[0m - \u001b[1mRotating around axis ('CB', 'CG')\u001b[0m\n",
      "\u001b[32m2023-09-06 17:38:18.927\u001b[0m | \u001b[1mINFO    \u001b[0m | \u001b[36maaperturb.perturbation\u001b[0m:\u001b[36mrandom_perturbaton\u001b[0m:\u001b[36m80\u001b[0m - \u001b[1mThe substructure contains following atoms: ['CG', 'OD1', 'OD2']\u001b[0m\n",
      "\u001b[32m2023-09-06 17:38:19.112\u001b[0m | \u001b[1mINFO    \u001b[0m | \u001b[36maaperturb.perturbation\u001b[0m:\u001b[36mrandom_perturbaton\u001b[0m:\u001b[36m88\u001b[0m - \u001b[1mThere were no clashes between atoms.\u001b[0m\n",
      "\u001b[32m2023-09-06 17:38:19.113\u001b[0m | \u001b[1mINFO    \u001b[0m | \u001b[36maaperturb.perturbation\u001b[0m:\u001b[36mrandom_perturbaton\u001b[0m:\u001b[36m100\u001b[0m - \u001b[1mResidue RMSD: 1.0353698987653643\u001b[0m\n"
     ]
    }
   ],
   "source": [
    "#perform the perturbation of the sidechain\n",
    "perturbator.random_perturbaton(\"A\", 74, 0.5)"
   ]
  },
  {
   "cell_type": "code",
   "execution_count": 4,
   "metadata": {},
   "outputs": [],
   "source": [
    "#save it\n",
    "perturbator.save(\"tests/perturbed.pdb\")"
   ]
  }
 ],
 "metadata": {
  "kernelspec": {
   "display_name": "cheminf",
   "language": "python",
   "name": "python3"
  },
  "language_info": {
   "codemirror_mode": {
    "name": "ipython",
    "version": 3
   },
   "file_extension": ".py",
   "mimetype": "text/x-python",
   "name": "python",
   "nbconvert_exporter": "python",
   "pygments_lexer": "ipython3",
   "version": "3.11.5"
  },
  "orig_nbformat": 4
 },
 "nbformat": 4,
 "nbformat_minor": 2
}
